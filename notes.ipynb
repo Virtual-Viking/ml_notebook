{
 "cells": [
  {
   "cell_type": "markdown",
   "id": "4a4a780d",
   "metadata": {},
   "source": [
    "Problem statement\n",
    "Given a 2D list, create a numpy 2D array using it.\n",
    "\n",
    "Note: Given 2D list is [[1, 2, 3], [4, 5, 6], [7, 8, 9]]\n",
    "\n",
    "Print the Numpy array."
   ]
  },
  {
   "cell_type": "code",
   "execution_count": null,
   "id": "cc94467c",
   "metadata": {},
   "outputs": [],
   "source": [
    "!pip install numpy"
   ]
  },
  {
   "cell_type": "code",
   "execution_count": null,
   "id": "aa96b5d1",
   "metadata": {},
   "outputs": [
    {
     "name": "stdout",
     "output_type": "stream",
     "text": [
      "[[1 2 3]\n",
      " [4 5 6]\n",
      " [7 8 9]]\n"
     ]
    }
   ],
   "source": [
    "import numpy as np\n",
    "\n",
    "a = np.array([[1,2,3],[4,5,6],[7,8,9]])\n",
    "print(a)"
   ]
  },
  {
   "cell_type": "markdown",
   "id": "1cbfcc03",
   "metadata": {},
   "source": [
    "Problem statement\n",
    "Create an integer array of size 10, where all the values should be 0 but the fifth value should be 1.\n",
    "\n",
    "Print the elements of array."
   ]
  },
  {
   "cell_type": "code",
   "execution_count": 5,
   "id": "5582b24d",
   "metadata": {},
   "outputs": [
    {
     "name": "stdout",
     "output_type": "stream",
     "text": [
      "[0 0 0 0 1 0 0 0 0 0]\n"
     ]
    }
   ],
   "source": [
    "a = np.full((10),0)\n",
    "a[4] = 1\n",
    "print(a)"
   ]
  },
  {
   "cell_type": "code",
   "execution_count": 7,
   "id": "f0531a9f",
   "metadata": {},
   "outputs": [
    {
     "name": "stdout",
     "output_type": "stream",
     "text": [
      "[ 9 10 11 12 13 14 15 16 17 18 19 20 21 22 23 24 25 26 27 28 29 30 31 32\n",
      " 33 34 35 36 37 38 39 40 41 42 43 44 45 46 47 48 49]\n"
     ]
    }
   ],
   "source": [
    "a = np.arange(9,50)\n",
    "print(a)"
   ]
  },
  {
   "cell_type": "code",
   "execution_count": 8,
   "id": "482955d8",
   "metadata": {},
   "outputs": [
    {
     "name": "stdout",
     "output_type": "stream",
     "text": [
      "[[1 0 0 0 0]\n",
      " [0 1 0 0 0]\n",
      " [0 0 1 0 0]\n",
      " [0 0 0 1 0]\n",
      " [0 0 0 0 1]]\n"
     ]
    }
   ],
   "source": [
    "a = np.eye(5,dtype=int)\n",
    "print(a)"
   ]
  },
  {
   "cell_type": "markdown",
   "id": "e9dcb49b",
   "metadata": {},
   "source": [
    "Problem statement\n",
    "You are given a rope of length 5m. Cut the rope into 9 parts such that each part is of equal length.\n",
    "\n",
    "Note:Array elements are the points where cut is to be made and round upto 2 decimal place.\n",
    "\n",
    "Print the array element."
   ]
  },
  {
   "cell_type": "code",
   "execution_count": 22,
   "id": "9185a915",
   "metadata": {},
   "outputs": [
    {
     "name": "stdout",
     "output_type": "stream",
     "text": [
      "[0.56 1.11 1.67 2.22 2.78 3.33 3.89 4.44]\n"
     ]
    }
   ],
   "source": [
    "a = np.arange(1,9) *(5/9)\n",
    "a = np.round(a,2)\n",
    "print(a)"
   ]
  },
  {
   "cell_type": "code",
   "execution_count": null,
   "id": "96356a64",
   "metadata": {},
   "outputs": [],
   "source": []
  }
 ],
 "metadata": {
  "kernelspec": {
   "display_name": ".venv",
   "language": "python",
   "name": "python3"
  },
  "language_info": {
   "codemirror_mode": {
    "name": "ipython",
    "version": 3
   },
   "file_extension": ".py",
   "mimetype": "text/x-python",
   "name": "python",
   "nbconvert_exporter": "python",
   "pygments_lexer": "ipython3",
   "version": "3.12.3"
  }
 },
 "nbformat": 4,
 "nbformat_minor": 5
}
