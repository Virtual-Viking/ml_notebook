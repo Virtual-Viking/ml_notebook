{
 "cells": [
  {
   "cell_type": "code",
   "execution_count": 47,
   "id": "5c90bdd7",
   "metadata": {},
   "outputs": [],
   "source": [
    "import numpy as np \n",
    "import urllib.request\n",
    "import csv\n",
    "import re \n"
   ]
  },
  {
   "cell_type": "code",
   "execution_count": 48,
   "id": "62047da5",
   "metadata": {},
   "outputs": [],
   "source": [
    "# Your Google Sheets URL components\n",
    "sheet_id = \"1AiA837JyZRygtvgGc9BzEj7BvjkOOlA07uW2d1dCWlw\"\n",
    "gid = \"1188562098\"  # Sheet tab ID (optional, defaults to 0)\n",
    "\n",
    "# Create CSV export URL\n",
    "csv_url = f\"https://docs.google.com/spreadsheets/d/{sheet_id}/export?format=csv&gid={gid}\"\n",
    "\n",
    "with urllib.request.urlopen(csv_url) as response:\n",
    "    csv_data = response.read().decode('utf-8')\n",
    "lines = csv_data.splitlines()\n",
    "reader = csv.reader(lines, skipinitialspace = True)\n",
    "data = list(reader)"
   ]
  },
  {
   "cell_type": "code",
   "execution_count": 49,
   "id": "9aee0e7c",
   "metadata": {},
   "outputs": [],
   "source": [
    "patterns = {\n",
    "    'Java': r'\\bjava\\b',\n",
    "    'C++': r'c\\+\\+',\n",
    "    'Python': r'\\bpython\\b'\n",
    "}\n",
    "\n",
    "language = {'Java':0, 'C++':0, 'Python':0}\n"
   ]
  },
  {
   "cell_type": "code",
   "execution_count": 50,
   "id": "8ecf0c8d",
   "metadata": {},
   "outputs": [],
   "source": [
    "for i in data[1:]:\n",
    "    if i[2].strip().startswith('IN'):\n",
    "        if 'BA' in i[5].strip() or 'BS' in i[5].strip() or 'Bachelor' in i[5].strip():\n",
    "            text = i[5].strip()\n",
    "            for a,b in patterns.items():\n",
    "                if re.search(b,text,re.IGNORECASE):\n",
    "                    language[a] += 1\n",
    "                    "
   ]
  },
  {
   "cell_type": "code",
   "execution_count": 51,
   "id": "ced4cc98",
   "metadata": {},
   "outputs": [
    {
     "name": "stdout",
     "output_type": "stream",
     "text": [
      "Java 103\n",
      "C++ 70\n",
      "Python 30\n"
     ]
    }
   ],
   "source": [
    "for i,j in language.items():\n",
    "    print(i,j)"
   ]
  }
 ],
 "metadata": {
  "kernelspec": {
   "display_name": ".venv",
   "language": "python",
   "name": "python3"
  },
  "language_info": {
   "codemirror_mode": {
    "name": "ipython",
    "version": 3
   },
   "file_extension": ".py",
   "mimetype": "text/x-python",
   "name": "python",
   "nbconvert_exporter": "python",
   "pygments_lexer": "ipython3",
   "version": "3.12.3"
  }
 },
 "nbformat": 4,
 "nbformat_minor": 5
}
